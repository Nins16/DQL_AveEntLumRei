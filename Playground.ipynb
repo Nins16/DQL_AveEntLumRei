{
 "cells": [
  {
   "cell_type": "code",
   "execution_count": null,
   "metadata": {},
   "outputs": [],
   "source": [
    "class Dumby:\n",
    "    def __init__(self, num):\n",
    "        self.num = num\n",
    "\n",
    "    def mult(self):\n",
    "        return self.num**2\n",
    "\n"
   ]
  }
 ],
 "metadata": {
  "kernelspec": {
   "display_name": "Python 3.9.7 ('pydql': venv)",
   "language": "python",
   "name": "python3"
  },
  "language_info": {
   "name": "python",
   "version": "3.9.7"
  },
  "orig_nbformat": 4,
  "vscode": {
   "interpreter": {
    "hash": "4c1a53b4b7b4db83c53f692b5748e60f7dd9640d084f7b60c35e0641e914f769"
   }
  }
 },
 "nbformat": 4,
 "nbformat_minor": 2
}
